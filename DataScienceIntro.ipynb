{
 "cells": [
  {
   "cell_type": "markdown",
   "metadata": {},
   "source": [
    "# Data Science Introduction"
   ]
  },
  {
   "cell_type": "markdown",
   "metadata": {},
   "source": [
    "We will be using two additional packages - `numpy` and `pandas`. They both need to be imported and usually they are given an alias."
   ]
  },
  {
   "cell_type": "code",
   "execution_count": 1,
   "metadata": {},
   "outputs": [],
   "source": [
    "import pandas as pd\n",
    "import numpy as np"
   ]
  },
  {
   "cell_type": "markdown",
   "metadata": {},
   "source": [
    "## Numpy array"
   ]
  },
  {
   "cell_type": "markdown",
   "metadata": {},
   "source": [
    "Example of numpy `array` structure."
   ]
  },
  {
   "cell_type": "code",
   "execution_count": 3,
   "metadata": {},
   "outputs": [
    {
     "name": "stdout",
     "output_type": "stream",
     "text": [
      "[1 2 3]\n"
     ]
    }
   ],
   "source": [
    "a = np.array([1,2,3])\n",
    "print(a)"
   ]
  },
  {
   "cell_type": "markdown",
   "metadata": {},
   "source": [
    "The array `a` has a special `ndarray` type."
   ]
  },
  {
   "cell_type": "code",
   "execution_count": 5,
   "metadata": {},
   "outputs": [
    {
     "name": "stdout",
     "output_type": "stream",
     "text": [
      "<class 'numpy.ndarray'>\n"
     ]
    }
   ],
   "source": [
    "print(type(a))"
   ]
  },
  {
   "cell_type": "code",
   "execution_count": 6,
   "metadata": {},
   "outputs": [
    {
     "name": "stdout",
     "output_type": "stream",
     "text": [
      "<class 'numpy.int64'>\n"
     ]
    }
   ],
   "source": [
    "print(type(a[0]))"
   ]
  },
  {
   "cell_type": "markdown",
   "metadata": {},
   "source": [
    "Check the dimension and size of the array."
   ]
  },
  {
   "cell_type": "code",
   "execution_count": 8,
   "metadata": {},
   "outputs": [
    {
     "data": {
      "text/plain": [
       "(3,)"
      ]
     },
     "execution_count": 8,
     "metadata": {},
     "output_type": "execute_result"
    }
   ],
   "source": [
    "a.shape"
   ]
  },
  {
   "cell_type": "markdown",
   "metadata": {},
   "source": [
    "Create a multidimensional array."
   ]
  },
  {
   "cell_type": "code",
   "execution_count": 13,
   "metadata": {},
   "outputs": [
    {
     "name": "stdout",
     "output_type": "stream",
     "text": [
      "[[1. 2. 3.]\n",
      " [4. 5. 6.]\n",
      " [7. 8. 9.]]\n"
     ]
    }
   ],
   "source": [
    "b = np.array([[1,2,3],[4,5,6],[7,8,9]], dtype=np.float64)\n",
    "print(b)"
   ]
  },
  {
   "cell_type": "code",
   "execution_count": 11,
   "metadata": {},
   "outputs": [
    {
     "name": "stdout",
     "output_type": "stream",
     "text": [
      "<class 'numpy.ndarray'>\n"
     ]
    }
   ],
   "source": [
    "print(type(b))"
   ]
  },
  {
   "cell_type": "code",
   "execution_count": 14,
   "metadata": {},
   "outputs": [
    {
     "data": {
      "text/plain": [
       "(3, 3)"
      ]
     },
     "execution_count": 14,
     "metadata": {},
     "output_type": "execute_result"
    }
   ],
   "source": [
    "b.shape"
   ]
  },
  {
   "cell_type": "code",
   "execution_count": 15,
   "metadata": {},
   "outputs": [
    {
     "name": "stdout",
     "output_type": "stream",
     "text": [
      "<class 'numpy.float64'>\n"
     ]
    }
   ],
   "source": [
    "print(type(b[0][0]))"
   ]
  },
  {
   "cell_type": "markdown",
   "metadata": {},
   "source": [
    "The `strides` attributes gives us the number of bytes to step in each direction when traversing the array. "
   ]
  },
  {
   "cell_type": "code",
   "execution_count": 22,
   "metadata": {},
   "outputs": [
    {
     "data": {
      "text/plain": [
       "(24, 8)"
      ]
     },
     "execution_count": 22,
     "metadata": {},
     "output_type": "execute_result"
    }
   ],
   "source": [
    "b.strides\n",
    "#8 bytes to reach the next column and 2ams 4 bytes to reach the next row"
   ]
  },
  {
   "cell_type": "markdown",
   "metadata": {},
   "source": [
    "Zero-dimensional array - scalar."
   ]
  },
  {
   "cell_type": "code",
   "execution_count": 34,
   "metadata": {},
   "outputs": [
    {
     "name": "stdout",
     "output_type": "stream",
     "text": [
      "42\n",
      "<class 'numpy.ndarray'>\n",
      "0\n",
      "()\n"
     ]
    }
   ],
   "source": [
    "x = np.array(42)\n",
    "print(x)\n",
    "print(type(x))\n",
    "print(np.ndim(x))\n",
    "print(x.shape)"
   ]
  },
  {
   "cell_type": "code",
   "execution_count": 37,
   "metadata": {},
   "outputs": [
    {
     "name": "stdout",
     "output_type": "stream",
     "text": [
      "['1' 'martina' '7.8']\n",
      "<class 'numpy.str_'>\n"
     ]
    }
   ],
   "source": [
    "arr = np.array([1,'martina', 7.8])\n",
    "print(arr)\n",
    "print(type(arr[0]))"
   ]
  },
  {
   "cell_type": "markdown",
   "metadata": {},
   "source": [
    "### Special arrays"
   ]
  },
  {
   "cell_type": "markdown",
   "metadata": {},
   "source": [
    "Arrays of ones and zeroes"
   ]
  },
  {
   "cell_type": "code",
   "execution_count": 40,
   "metadata": {},
   "outputs": [
    {
     "name": "stdout",
     "output_type": "stream",
     "text": [
      "[[1. 1. 1.]\n",
      " [1. 1. 1.]]\n"
     ]
    }
   ],
   "source": [
    "ones = np.ones((2,3), float)\n",
    "print(ones)"
   ]
  },
  {
   "cell_type": "code",
   "execution_count": 42,
   "metadata": {},
   "outputs": [
    {
     "name": "stdout",
     "output_type": "stream",
     "text": [
      "[[0. 0. 0.]\n",
      " [0. 0. 0.]]\n"
     ]
    }
   ],
   "source": [
    "zeroes = np.zeros((2,3))\n",
    "print(zeroes)"
   ]
  },
  {
   "cell_type": "markdown",
   "metadata": {},
   "source": [
    "Identity arrays"
   ]
  },
  {
   "cell_type": "code",
   "execution_count": 43,
   "metadata": {
    "scrolled": true
   },
   "outputs": [
    {
     "name": "stdout",
     "output_type": "stream",
     "text": [
      "[[1. 0. 0.]\n",
      " [0. 1. 0.]\n",
      " [0. 0. 1.]]\n"
     ]
    }
   ],
   "source": [
    "ident = np.identity(3)\n",
    "print(ident)"
   ]
  },
  {
   "cell_type": "markdown",
   "metadata": {},
   "source": [
    "Non-square identity matrix, the `k` parameter defines the position of the diagonal, default 0 - main diagonal."
   ]
  },
  {
   "cell_type": "code",
   "execution_count": 46,
   "metadata": {},
   "outputs": [
    {
     "name": "stdout",
     "output_type": "stream",
     "text": [
      "[[0 0 1 0]\n",
      " [0 0 0 1]\n",
      " [0 0 0 0]]\n"
     ]
    }
   ],
   "source": [
    "ident2 = np.eye(3,4,k=2, dtype=int)\n",
    "print(ident2)"
   ]
  },
  {
   "cell_type": "markdown",
   "metadata": {},
   "source": [
    "### Numerical operations"
   ]
  },
  {
   "cell_type": "code",
   "execution_count": 48,
   "metadata": {},
   "outputs": [
    {
     "name": "stdout",
     "output_type": "stream",
     "text": [
      "[2 3 4 5 6 7 8 9]\n"
     ]
    }
   ],
   "source": [
    "a = np.array([1,2,3,4,5,6,7,8])\n",
    "a = a + 1\n",
    "print(a)"
   ]
  },
  {
   "cell_type": "code",
   "execution_count": 53,
   "metadata": {},
   "outputs": [
    {
     "name": "stdout",
     "output_type": "stream",
     "text": [
      "[[1 1 1 1 1 1 1 1]]\n",
      "[[ 3  4  5  6  7  8  9 10]]\n"
     ]
    }
   ],
   "source": [
    "# adding two arrays together\n",
    "b = np.ones((1,8), int)\n",
    "print(b)\n",
    "\n",
    "c = a+b\n",
    "print(c)"
   ]
  },
  {
   "cell_type": "markdown",
   "metadata": {},
   "source": [
    "Matrix multiplication"
   ]
  },
  {
   "cell_type": "code",
   "execution_count": 54,
   "metadata": {},
   "outputs": [
    {
     "name": "stdout",
     "output_type": "stream",
     "text": [
      "[[22 28]\n",
      " [49 64]]\n"
     ]
    }
   ],
   "source": [
    "mat1 = np.array([[1,2,3], [4,5,6]])\n",
    "mat2 = np.array([[1,2], [3,4], [5,6]])\n",
    "print(np.dot(mat1,mat2))"
   ]
  },
  {
   "cell_type": "markdown",
   "metadata": {},
   "source": [
    "Equality operator"
   ]
  },
  {
   "cell_type": "code",
   "execution_count": 56,
   "metadata": {},
   "outputs": [
    {
     "name": "stdout",
     "output_type": "stream",
     "text": [
      "[[ True  True False]\n",
      " [ True False  True]\n",
      " [ True False False]]\n",
      "False\n"
     ]
    }
   ],
   "source": [
    "mat1 = np.array([[1,2,4], [3,4,5], [6,7,8]])\n",
    "mat2 = np.array([[1,2,6],[3,7,5], [6,4,5]])\n",
    "print(mat1 == mat2)\n",
    "\n",
    "#complete array equality\n",
    "print(np.array_equal(mat1, mat2))"
   ]
  },
  {
   "cell_type": "markdown",
   "metadata": {},
   "source": [
    "Structured arrays - heterogenous data"
   ]
  },
  {
   "cell_type": "code",
   "execution_count": 59,
   "metadata": {},
   "outputs": [
    {
     "name": "stdout",
     "output_type": "stream",
     "text": [
      "[(b'UK',  65640000) (b'USA', 323100000) (b'Russia', 144300000)]\n"
     ]
    }
   ],
   "source": [
    "dt = np.dtype([('country', 'S20'), ('population','i4')])\n",
    "datatable = np.array([\n",
    "    ('UK', 65640000),\n",
    "    ('USA', 323100000),\n",
    "    ('Russia', 144300000)\n",
    "], dtype = dt)\n",
    "\n",
    "print(datatable)"
   ]
  },
  {
   "cell_type": "code",
   "execution_count": 60,
   "metadata": {},
   "outputs": [
    {
     "name": "stdout",
     "output_type": "stream",
     "text": [
      "[b'UK' b'USA' b'Russia']\n"
     ]
    }
   ],
   "source": [
    "print(datatable['country'])"
   ]
  },
  {
   "cell_type": "code",
   "execution_count": 61,
   "metadata": {},
   "outputs": [
    {
     "name": "stdout",
     "output_type": "stream",
     "text": [
      "[ 65640000 323100000 144300000]\n"
     ]
    }
   ],
   "source": [
    "print(datatable['population'])"
   ]
  },
  {
   "cell_type": "code",
   "execution_count": 64,
   "metadata": {
    "scrolled": true
   },
   "outputs": [
    {
     "name": "stdout",
     "output_type": "stream",
     "text": [
      "(b'UK', 65640000)\n",
      "b'UK'\n"
     ]
    }
   ],
   "source": [
    "ctry = datatable[0]\n",
    "print(ctry)\n",
    "print(ctry[0])"
   ]
  },
  {
   "cell_type": "markdown",
   "metadata": {},
   "source": [
    "Numpy matrices are strictly 2-D, support matrix manipulation"
   ]
  },
  {
   "cell_type": "code",
   "execution_count": 65,
   "metadata": {},
   "outputs": [
    {
     "name": "stdout",
     "output_type": "stream",
     "text": [
      "[[ 55  65]\n",
      " [133 158]]\n"
     ]
    }
   ],
   "source": [
    "MA = np.mat([[1,2,3], [4,5,6]])\n",
    "MB = np.mat([[7,8],[9,12],[10,11]])\n",
    "\n",
    "print(MA*MB)"
   ]
  },
  {
   "cell_type": "markdown",
   "metadata": {},
   "source": [
    "## Numpy arange"
   ]
  },
  {
   "cell_type": "markdown",
   "metadata": {},
   "source": [
    "Example of `arange()` function, if used with integers it is almost equivalent to Python in-built `range()` function. The values are generated within the half-open interval, similar to slicing."
   ]
  },
  {
   "cell_type": "code",
   "execution_count": 25,
   "metadata": {},
   "outputs": [
    {
     "name": "stdout",
     "output_type": "stream",
     "text": [
      "[1 2 3 4]\n"
     ]
    }
   ],
   "source": [
    "a = np.arange(1,5)\n",
    "print(a)"
   ]
  },
  {
   "cell_type": "markdown",
   "metadata": {},
   "source": [
    "Using optional step-size parameter."
   ]
  },
  {
   "cell_type": "code",
   "execution_count": 27,
   "metadata": {},
   "outputs": [
    {
     "name": "stdout",
     "output_type": "stream",
     "text": [
      "[0.5 1.  1.5 2. ]\n",
      "<class 'numpy.ndarray'>\n"
     ]
    }
   ],
   "source": [
    "a = np.arange(0.5, 2.5, 0.5)\n",
    "print(a)\n",
    "print(type(a))"
   ]
  },
  {
   "cell_type": "markdown",
   "metadata": {},
   "source": [
    "## Pandas DataFrames"
   ]
  },
  {
   "cell_type": "markdown",
   "metadata": {},
   "source": [
    " - DataFrames are rectangular table of data\n",
    " - Contain rows and columns\n",
    " - Columns have headings\n",
    " - Rows have index"
   ]
  },
  {
   "cell_type": "code",
   "execution_count": 67,
   "metadata": {},
   "outputs": [
    {
     "data": {
      "text/html": [
       "<div>\n",
       "<style scoped>\n",
       "    .dataframe tbody tr th:only-of-type {\n",
       "        vertical-align: middle;\n",
       "    }\n",
       "\n",
       "    .dataframe tbody tr th {\n",
       "        vertical-align: top;\n",
       "    }\n",
       "\n",
       "    .dataframe thead th {\n",
       "        text-align: right;\n",
       "    }\n",
       "</style>\n",
       "<table border=\"1\" class=\"dataframe\">\n",
       "  <thead>\n",
       "    <tr style=\"text-align: right;\">\n",
       "      <th></th>\n",
       "      <th>Date</th>\n",
       "      <th>Open</th>\n",
       "      <th>High</th>\n",
       "      <th>Low</th>\n",
       "      <th>Close</th>\n",
       "      <th>Adj Close</th>\n",
       "      <th>Volume</th>\n",
       "    </tr>\n",
       "  </thead>\n",
       "  <tbody>\n",
       "    <tr>\n",
       "      <th>0</th>\n",
       "      <td>2020-10-26</td>\n",
       "      <td>3198.739990</td>\n",
       "      <td>3282.979980</td>\n",
       "      <td>3153.300049</td>\n",
       "      <td>3207.040039</td>\n",
       "      <td>3207.040039</td>\n",
       "      <td>5901200</td>\n",
       "    </tr>\n",
       "    <tr>\n",
       "      <th>1</th>\n",
       "      <td>2020-10-27</td>\n",
       "      <td>3224.939941</td>\n",
       "      <td>3291.659912</td>\n",
       "      <td>3211.300049</td>\n",
       "      <td>3286.330078</td>\n",
       "      <td>3286.330078</td>\n",
       "      <td>4291000</td>\n",
       "    </tr>\n",
       "    <tr>\n",
       "      <th>2</th>\n",
       "      <td>2020-10-28</td>\n",
       "      <td>3249.300049</td>\n",
       "      <td>3264.020020</td>\n",
       "      <td>3162.469971</td>\n",
       "      <td>3162.780029</td>\n",
       "      <td>3162.780029</td>\n",
       "      <td>5588300</td>\n",
       "    </tr>\n",
       "    <tr>\n",
       "      <th>3</th>\n",
       "      <td>2020-10-29</td>\n",
       "      <td>3201.270020</td>\n",
       "      <td>3257.250000</td>\n",
       "      <td>3164.000000</td>\n",
       "      <td>3211.010010</td>\n",
       "      <td>3211.010010</td>\n",
       "      <td>6596500</td>\n",
       "    </tr>\n",
       "    <tr>\n",
       "      <th>4</th>\n",
       "      <td>2020-10-30</td>\n",
       "      <td>3157.750000</td>\n",
       "      <td>3167.000000</td>\n",
       "      <td>3019.000000</td>\n",
       "      <td>3036.149902</td>\n",
       "      <td>3036.149902</td>\n",
       "      <td>8386400</td>\n",
       "    </tr>\n",
       "    <tr>\n",
       "      <th>...</th>\n",
       "      <td>...</td>\n",
       "      <td>...</td>\n",
       "      <td>...</td>\n",
       "      <td>...</td>\n",
       "      <td>...</td>\n",
       "      <td>...</td>\n",
       "      <td>...</td>\n",
       "    </tr>\n",
       "    <tr>\n",
       "      <th>247</th>\n",
       "      <td>2021-10-19</td>\n",
       "      <td>3434.290039</td>\n",
       "      <td>3454.689941</td>\n",
       "      <td>3422.000000</td>\n",
       "      <td>3444.149902</td>\n",
       "      <td>3444.149902</td>\n",
       "      <td>2386100</td>\n",
       "    </tr>\n",
       "    <tr>\n",
       "      <th>248</th>\n",
       "      <td>2021-10-20</td>\n",
       "      <td>3452.659912</td>\n",
       "      <td>3462.860107</td>\n",
       "      <td>3400.370117</td>\n",
       "      <td>3415.060059</td>\n",
       "      <td>3415.060059</td>\n",
       "      <td>2139800</td>\n",
       "    </tr>\n",
       "    <tr>\n",
       "      <th>249</th>\n",
       "      <td>2021-10-21</td>\n",
       "      <td>3414.250000</td>\n",
       "      <td>3440.280029</td>\n",
       "      <td>3403.000000</td>\n",
       "      <td>3435.010010</td>\n",
       "      <td>3435.010010</td>\n",
       "      <td>1881400</td>\n",
       "    </tr>\n",
       "    <tr>\n",
       "      <th>250</th>\n",
       "      <td>2021-10-22</td>\n",
       "      <td>3421.000000</td>\n",
       "      <td>3429.840088</td>\n",
       "      <td>3331.300049</td>\n",
       "      <td>3335.550049</td>\n",
       "      <td>3335.550049</td>\n",
       "      <td>3133800</td>\n",
       "    </tr>\n",
       "    <tr>\n",
       "      <th>251</th>\n",
       "      <td>2021-10-25</td>\n",
       "      <td>3335.000000</td>\n",
       "      <td>3347.800049</td>\n",
       "      <td>3297.699951</td>\n",
       "      <td>3320.370117</td>\n",
       "      <td>3320.370117</td>\n",
       "      <td>2222700</td>\n",
       "    </tr>\n",
       "  </tbody>\n",
       "</table>\n",
       "<p>252 rows × 7 columns</p>\n",
       "</div>"
      ],
      "text/plain": [
       "          Date         Open         High          Low        Close  \\\n",
       "0   2020-10-26  3198.739990  3282.979980  3153.300049  3207.040039   \n",
       "1   2020-10-27  3224.939941  3291.659912  3211.300049  3286.330078   \n",
       "2   2020-10-28  3249.300049  3264.020020  3162.469971  3162.780029   \n",
       "3   2020-10-29  3201.270020  3257.250000  3164.000000  3211.010010   \n",
       "4   2020-10-30  3157.750000  3167.000000  3019.000000  3036.149902   \n",
       "..         ...          ...          ...          ...          ...   \n",
       "247 2021-10-19  3434.290039  3454.689941  3422.000000  3444.149902   \n",
       "248 2021-10-20  3452.659912  3462.860107  3400.370117  3415.060059   \n",
       "249 2021-10-21  3414.250000  3440.280029  3403.000000  3435.010010   \n",
       "250 2021-10-22  3421.000000  3429.840088  3331.300049  3335.550049   \n",
       "251 2021-10-25  3335.000000  3347.800049  3297.699951  3320.370117   \n",
       "\n",
       "       Adj Close   Volume  \n",
       "0    3207.040039  5901200  \n",
       "1    3286.330078  4291000  \n",
       "2    3162.780029  5588300  \n",
       "3    3211.010010  6596500  \n",
       "4    3036.149902  8386400  \n",
       "..           ...      ...  \n",
       "247  3444.149902  2386100  \n",
       "248  3415.060059  2139800  \n",
       "249  3435.010010  1881400  \n",
       "250  3335.550049  3133800  \n",
       "251  3320.370117  2222700  \n",
       "\n",
       "[252 rows x 7 columns]"
      ]
     },
     "execution_count": 67,
     "metadata": {},
     "output_type": "execute_result"
    }
   ],
   "source": [
    "# can create dataframe by reading an excel spreadsheet\n",
    "df = pd.read_excel(io='FinData.xls', sheet_name='AMZN')\n",
    "df"
   ]
  },
  {
   "cell_type": "markdown",
   "metadata": {},
   "source": [
    "View first few rows or last few rows."
   ]
  },
  {
   "cell_type": "code",
   "execution_count": 69,
   "metadata": {},
   "outputs": [
    {
     "data": {
      "text/html": [
       "<div>\n",
       "<style scoped>\n",
       "    .dataframe tbody tr th:only-of-type {\n",
       "        vertical-align: middle;\n",
       "    }\n",
       "\n",
       "    .dataframe tbody tr th {\n",
       "        vertical-align: top;\n",
       "    }\n",
       "\n",
       "    .dataframe thead th {\n",
       "        text-align: right;\n",
       "    }\n",
       "</style>\n",
       "<table border=\"1\" class=\"dataframe\">\n",
       "  <thead>\n",
       "    <tr style=\"text-align: right;\">\n",
       "      <th></th>\n",
       "      <th>Date</th>\n",
       "      <th>Open</th>\n",
       "      <th>High</th>\n",
       "      <th>Low</th>\n",
       "      <th>Close</th>\n",
       "      <th>Adj Close</th>\n",
       "      <th>Volume</th>\n",
       "    </tr>\n",
       "  </thead>\n",
       "  <tbody>\n",
       "    <tr>\n",
       "      <th>0</th>\n",
       "      <td>2020-10-26</td>\n",
       "      <td>3198.739990</td>\n",
       "      <td>3282.979980</td>\n",
       "      <td>3153.300049</td>\n",
       "      <td>3207.040039</td>\n",
       "      <td>3207.040039</td>\n",
       "      <td>5901200</td>\n",
       "    </tr>\n",
       "    <tr>\n",
       "      <th>1</th>\n",
       "      <td>2020-10-27</td>\n",
       "      <td>3224.939941</td>\n",
       "      <td>3291.659912</td>\n",
       "      <td>3211.300049</td>\n",
       "      <td>3286.330078</td>\n",
       "      <td>3286.330078</td>\n",
       "      <td>4291000</td>\n",
       "    </tr>\n",
       "    <tr>\n",
       "      <th>2</th>\n",
       "      <td>2020-10-28</td>\n",
       "      <td>3249.300049</td>\n",
       "      <td>3264.020020</td>\n",
       "      <td>3162.469971</td>\n",
       "      <td>3162.780029</td>\n",
       "      <td>3162.780029</td>\n",
       "      <td>5588300</td>\n",
       "    </tr>\n",
       "    <tr>\n",
       "      <th>3</th>\n",
       "      <td>2020-10-29</td>\n",
       "      <td>3201.270020</td>\n",
       "      <td>3257.250000</td>\n",
       "      <td>3164.000000</td>\n",
       "      <td>3211.010010</td>\n",
       "      <td>3211.010010</td>\n",
       "      <td>6596500</td>\n",
       "    </tr>\n",
       "    <tr>\n",
       "      <th>4</th>\n",
       "      <td>2020-10-30</td>\n",
       "      <td>3157.750000</td>\n",
       "      <td>3167.000000</td>\n",
       "      <td>3019.000000</td>\n",
       "      <td>3036.149902</td>\n",
       "      <td>3036.149902</td>\n",
       "      <td>8386400</td>\n",
       "    </tr>\n",
       "  </tbody>\n",
       "</table>\n",
       "</div>"
      ],
      "text/plain": [
       "        Date         Open         High          Low        Close    Adj Close  \\\n",
       "0 2020-10-26  3198.739990  3282.979980  3153.300049  3207.040039  3207.040039   \n",
       "1 2020-10-27  3224.939941  3291.659912  3211.300049  3286.330078  3286.330078   \n",
       "2 2020-10-28  3249.300049  3264.020020  3162.469971  3162.780029  3162.780029   \n",
       "3 2020-10-29  3201.270020  3257.250000  3164.000000  3211.010010  3211.010010   \n",
       "4 2020-10-30  3157.750000  3167.000000  3019.000000  3036.149902  3036.149902   \n",
       "\n",
       "    Volume  \n",
       "0  5901200  \n",
       "1  4291000  \n",
       "2  5588300  \n",
       "3  6596500  \n",
       "4  8386400  "
      ]
     },
     "execution_count": 69,
     "metadata": {},
     "output_type": "execute_result"
    }
   ],
   "source": [
    "df.head()"
   ]
  },
  {
   "cell_type": "code",
   "execution_count": 70,
   "metadata": {},
   "outputs": [
    {
     "data": {
      "text/html": [
       "<div>\n",
       "<style scoped>\n",
       "    .dataframe tbody tr th:only-of-type {\n",
       "        vertical-align: middle;\n",
       "    }\n",
       "\n",
       "    .dataframe tbody tr th {\n",
       "        vertical-align: top;\n",
       "    }\n",
       "\n",
       "    .dataframe thead th {\n",
       "        text-align: right;\n",
       "    }\n",
       "</style>\n",
       "<table border=\"1\" class=\"dataframe\">\n",
       "  <thead>\n",
       "    <tr style=\"text-align: right;\">\n",
       "      <th></th>\n",
       "      <th>Date</th>\n",
       "      <th>Open</th>\n",
       "      <th>High</th>\n",
       "      <th>Low</th>\n",
       "      <th>Close</th>\n",
       "      <th>Adj Close</th>\n",
       "      <th>Volume</th>\n",
       "    </tr>\n",
       "  </thead>\n",
       "  <tbody>\n",
       "    <tr>\n",
       "      <th>242</th>\n",
       "      <td>2021-10-12</td>\n",
       "      <td>3257.000000</td>\n",
       "      <td>3267.530029</td>\n",
       "      <td>3236.280029</td>\n",
       "      <td>3247.330078</td>\n",
       "      <td>3247.330078</td>\n",
       "      <td>1819600</td>\n",
       "    </tr>\n",
       "    <tr>\n",
       "      <th>243</th>\n",
       "      <td>2021-10-13</td>\n",
       "      <td>3269.709961</td>\n",
       "      <td>3288.379883</td>\n",
       "      <td>3261.090088</td>\n",
       "      <td>3284.280029</td>\n",
       "      <td>3284.280029</td>\n",
       "      <td>2420100</td>\n",
       "    </tr>\n",
       "    <tr>\n",
       "      <th>244</th>\n",
       "      <td>2021-10-14</td>\n",
       "      <td>3302.449951</td>\n",
       "      <td>3312.600098</td>\n",
       "      <td>3290.780029</td>\n",
       "      <td>3299.860107</td>\n",
       "      <td>3299.860107</td>\n",
       "      <td>2109500</td>\n",
       "    </tr>\n",
       "    <tr>\n",
       "      <th>245</th>\n",
       "      <td>2021-10-15</td>\n",
       "      <td>3311.419922</td>\n",
       "      <td>3410.419922</td>\n",
       "      <td>3304.000000</td>\n",
       "      <td>3409.020020</td>\n",
       "      <td>3409.020020</td>\n",
       "      <td>5175100</td>\n",
       "    </tr>\n",
       "    <tr>\n",
       "      <th>246</th>\n",
       "      <td>2021-10-18</td>\n",
       "      <td>3388.360107</td>\n",
       "      <td>3449.169922</td>\n",
       "      <td>3385.100098</td>\n",
       "      <td>3446.739990</td>\n",
       "      <td>3446.739990</td>\n",
       "      <td>3174100</td>\n",
       "    </tr>\n",
       "    <tr>\n",
       "      <th>247</th>\n",
       "      <td>2021-10-19</td>\n",
       "      <td>3434.290039</td>\n",
       "      <td>3454.689941</td>\n",
       "      <td>3422.000000</td>\n",
       "      <td>3444.149902</td>\n",
       "      <td>3444.149902</td>\n",
       "      <td>2386100</td>\n",
       "    </tr>\n",
       "    <tr>\n",
       "      <th>248</th>\n",
       "      <td>2021-10-20</td>\n",
       "      <td>3452.659912</td>\n",
       "      <td>3462.860107</td>\n",
       "      <td>3400.370117</td>\n",
       "      <td>3415.060059</td>\n",
       "      <td>3415.060059</td>\n",
       "      <td>2139800</td>\n",
       "    </tr>\n",
       "    <tr>\n",
       "      <th>249</th>\n",
       "      <td>2021-10-21</td>\n",
       "      <td>3414.250000</td>\n",
       "      <td>3440.280029</td>\n",
       "      <td>3403.000000</td>\n",
       "      <td>3435.010010</td>\n",
       "      <td>3435.010010</td>\n",
       "      <td>1881400</td>\n",
       "    </tr>\n",
       "    <tr>\n",
       "      <th>250</th>\n",
       "      <td>2021-10-22</td>\n",
       "      <td>3421.000000</td>\n",
       "      <td>3429.840088</td>\n",
       "      <td>3331.300049</td>\n",
       "      <td>3335.550049</td>\n",
       "      <td>3335.550049</td>\n",
       "      <td>3133800</td>\n",
       "    </tr>\n",
       "    <tr>\n",
       "      <th>251</th>\n",
       "      <td>2021-10-25</td>\n",
       "      <td>3335.000000</td>\n",
       "      <td>3347.800049</td>\n",
       "      <td>3297.699951</td>\n",
       "      <td>3320.370117</td>\n",
       "      <td>3320.370117</td>\n",
       "      <td>2222700</td>\n",
       "    </tr>\n",
       "  </tbody>\n",
       "</table>\n",
       "</div>"
      ],
      "text/plain": [
       "          Date         Open         High          Low        Close  \\\n",
       "242 2021-10-12  3257.000000  3267.530029  3236.280029  3247.330078   \n",
       "243 2021-10-13  3269.709961  3288.379883  3261.090088  3284.280029   \n",
       "244 2021-10-14  3302.449951  3312.600098  3290.780029  3299.860107   \n",
       "245 2021-10-15  3311.419922  3410.419922  3304.000000  3409.020020   \n",
       "246 2021-10-18  3388.360107  3449.169922  3385.100098  3446.739990   \n",
       "247 2021-10-19  3434.290039  3454.689941  3422.000000  3444.149902   \n",
       "248 2021-10-20  3452.659912  3462.860107  3400.370117  3415.060059   \n",
       "249 2021-10-21  3414.250000  3440.280029  3403.000000  3435.010010   \n",
       "250 2021-10-22  3421.000000  3429.840088  3331.300049  3335.550049   \n",
       "251 2021-10-25  3335.000000  3347.800049  3297.699951  3320.370117   \n",
       "\n",
       "       Adj Close   Volume  \n",
       "242  3247.330078  1819600  \n",
       "243  3284.280029  2420100  \n",
       "244  3299.860107  2109500  \n",
       "245  3409.020020  5175100  \n",
       "246  3446.739990  3174100  \n",
       "247  3444.149902  2386100  \n",
       "248  3415.060059  2139800  \n",
       "249  3435.010010  1881400  \n",
       "250  3335.550049  3133800  \n",
       "251  3320.370117  2222700  "
      ]
     },
     "execution_count": 70,
     "metadata": {},
     "output_type": "execute_result"
    }
   ],
   "source": [
    "df.tail(10)"
   ]
  },
  {
   "cell_type": "markdown",
   "metadata": {},
   "source": [
    "Access certain columns"
   ]
  },
  {
   "cell_type": "code",
   "execution_count": 71,
   "metadata": {},
   "outputs": [
    {
     "data": {
      "text/plain": [
       "0      3198.739990\n",
       "1      3224.939941\n",
       "2      3249.300049\n",
       "3      3201.270020\n",
       "4      3157.750000\n",
       "          ...     \n",
       "247    3434.290039\n",
       "248    3452.659912\n",
       "249    3414.250000\n",
       "250    3421.000000\n",
       "251    3335.000000\n",
       "Name: Open, Length: 252, dtype: float64"
      ]
     },
     "execution_count": 71,
     "metadata": {},
     "output_type": "execute_result"
    }
   ],
   "source": [
    "df['Open']"
   ]
  },
  {
   "cell_type": "code",
   "execution_count": 72,
   "metadata": {},
   "outputs": [
    {
     "name": "stdout",
     "output_type": "stream",
     "text": [
      "<class 'pandas.core.series.Series'>\n"
     ]
    }
   ],
   "source": [
    "print(type(df['Open']))"
   ]
  },
  {
   "cell_type": "code",
   "execution_count": 73,
   "metadata": {},
   "outputs": [
    {
     "data": {
      "text/html": [
       "<div>\n",
       "<style scoped>\n",
       "    .dataframe tbody tr th:only-of-type {\n",
       "        vertical-align: middle;\n",
       "    }\n",
       "\n",
       "    .dataframe tbody tr th {\n",
       "        vertical-align: top;\n",
       "    }\n",
       "\n",
       "    .dataframe thead th {\n",
       "        text-align: right;\n",
       "    }\n",
       "</style>\n",
       "<table border=\"1\" class=\"dataframe\">\n",
       "  <thead>\n",
       "    <tr style=\"text-align: right;\">\n",
       "      <th></th>\n",
       "      <th>Open</th>\n",
       "    </tr>\n",
       "  </thead>\n",
       "  <tbody>\n",
       "    <tr>\n",
       "      <th>0</th>\n",
       "      <td>3198.739990</td>\n",
       "    </tr>\n",
       "    <tr>\n",
       "      <th>1</th>\n",
       "      <td>3224.939941</td>\n",
       "    </tr>\n",
       "    <tr>\n",
       "      <th>2</th>\n",
       "      <td>3249.300049</td>\n",
       "    </tr>\n",
       "    <tr>\n",
       "      <th>3</th>\n",
       "      <td>3201.270020</td>\n",
       "    </tr>\n",
       "    <tr>\n",
       "      <th>4</th>\n",
       "      <td>3157.750000</td>\n",
       "    </tr>\n",
       "    <tr>\n",
       "      <th>...</th>\n",
       "      <td>...</td>\n",
       "    </tr>\n",
       "    <tr>\n",
       "      <th>247</th>\n",
       "      <td>3434.290039</td>\n",
       "    </tr>\n",
       "    <tr>\n",
       "      <th>248</th>\n",
       "      <td>3452.659912</td>\n",
       "    </tr>\n",
       "    <tr>\n",
       "      <th>249</th>\n",
       "      <td>3414.250000</td>\n",
       "    </tr>\n",
       "    <tr>\n",
       "      <th>250</th>\n",
       "      <td>3421.000000</td>\n",
       "    </tr>\n",
       "    <tr>\n",
       "      <th>251</th>\n",
       "      <td>3335.000000</td>\n",
       "    </tr>\n",
       "  </tbody>\n",
       "</table>\n",
       "<p>252 rows × 1 columns</p>\n",
       "</div>"
      ],
      "text/plain": [
       "            Open\n",
       "0    3198.739990\n",
       "1    3224.939941\n",
       "2    3249.300049\n",
       "3    3201.270020\n",
       "4    3157.750000\n",
       "..           ...\n",
       "247  3434.290039\n",
       "248  3452.659912\n",
       "249  3414.250000\n",
       "250  3421.000000\n",
       "251  3335.000000\n",
       "\n",
       "[252 rows x 1 columns]"
      ]
     },
     "execution_count": 73,
     "metadata": {},
     "output_type": "execute_result"
    }
   ],
   "source": [
    "df[['Open']]"
   ]
  },
  {
   "cell_type": "code",
   "execution_count": 74,
   "metadata": {},
   "outputs": [
    {
     "name": "stdout",
     "output_type": "stream",
     "text": [
      "<class 'pandas.core.frame.DataFrame'>\n"
     ]
    }
   ],
   "source": [
    "print(type(df[['Open']]))"
   ]
  },
  {
   "cell_type": "code",
   "execution_count": 75,
   "metadata": {},
   "outputs": [
    {
     "data": {
      "text/html": [
       "<div>\n",
       "<style scoped>\n",
       "    .dataframe tbody tr th:only-of-type {\n",
       "        vertical-align: middle;\n",
       "    }\n",
       "\n",
       "    .dataframe tbody tr th {\n",
       "        vertical-align: top;\n",
       "    }\n",
       "\n",
       "    .dataframe thead th {\n",
       "        text-align: right;\n",
       "    }\n",
       "</style>\n",
       "<table border=\"1\" class=\"dataframe\">\n",
       "  <thead>\n",
       "    <tr style=\"text-align: right;\">\n",
       "      <th></th>\n",
       "      <th>Open</th>\n",
       "      <th>Close</th>\n",
       "      <th>Adj Close</th>\n",
       "    </tr>\n",
       "  </thead>\n",
       "  <tbody>\n",
       "    <tr>\n",
       "      <th>0</th>\n",
       "      <td>3198.739990</td>\n",
       "      <td>3207.040039</td>\n",
       "      <td>3207.040039</td>\n",
       "    </tr>\n",
       "    <tr>\n",
       "      <th>1</th>\n",
       "      <td>3224.939941</td>\n",
       "      <td>3286.330078</td>\n",
       "      <td>3286.330078</td>\n",
       "    </tr>\n",
       "    <tr>\n",
       "      <th>2</th>\n",
       "      <td>3249.300049</td>\n",
       "      <td>3162.780029</td>\n",
       "      <td>3162.780029</td>\n",
       "    </tr>\n",
       "    <tr>\n",
       "      <th>3</th>\n",
       "      <td>3201.270020</td>\n",
       "      <td>3211.010010</td>\n",
       "      <td>3211.010010</td>\n",
       "    </tr>\n",
       "    <tr>\n",
       "      <th>4</th>\n",
       "      <td>3157.750000</td>\n",
       "      <td>3036.149902</td>\n",
       "      <td>3036.149902</td>\n",
       "    </tr>\n",
       "    <tr>\n",
       "      <th>...</th>\n",
       "      <td>...</td>\n",
       "      <td>...</td>\n",
       "      <td>...</td>\n",
       "    </tr>\n",
       "    <tr>\n",
       "      <th>247</th>\n",
       "      <td>3434.290039</td>\n",
       "      <td>3444.149902</td>\n",
       "      <td>3444.149902</td>\n",
       "    </tr>\n",
       "    <tr>\n",
       "      <th>248</th>\n",
       "      <td>3452.659912</td>\n",
       "      <td>3415.060059</td>\n",
       "      <td>3415.060059</td>\n",
       "    </tr>\n",
       "    <tr>\n",
       "      <th>249</th>\n",
       "      <td>3414.250000</td>\n",
       "      <td>3435.010010</td>\n",
       "      <td>3435.010010</td>\n",
       "    </tr>\n",
       "    <tr>\n",
       "      <th>250</th>\n",
       "      <td>3421.000000</td>\n",
       "      <td>3335.550049</td>\n",
       "      <td>3335.550049</td>\n",
       "    </tr>\n",
       "    <tr>\n",
       "      <th>251</th>\n",
       "      <td>3335.000000</td>\n",
       "      <td>3320.370117</td>\n",
       "      <td>3320.370117</td>\n",
       "    </tr>\n",
       "  </tbody>\n",
       "</table>\n",
       "<p>252 rows × 3 columns</p>\n",
       "</div>"
      ],
      "text/plain": [
       "            Open        Close    Adj Close\n",
       "0    3198.739990  3207.040039  3207.040039\n",
       "1    3224.939941  3286.330078  3286.330078\n",
       "2    3249.300049  3162.780029  3162.780029\n",
       "3    3201.270020  3211.010010  3211.010010\n",
       "4    3157.750000  3036.149902  3036.149902\n",
       "..           ...          ...          ...\n",
       "247  3434.290039  3444.149902  3444.149902\n",
       "248  3452.659912  3415.060059  3415.060059\n",
       "249  3414.250000  3435.010010  3435.010010\n",
       "250  3421.000000  3335.550049  3335.550049\n",
       "251  3335.000000  3320.370117  3320.370117\n",
       "\n",
       "[252 rows x 3 columns]"
      ]
     },
     "execution_count": 75,
     "metadata": {},
     "output_type": "execute_result"
    }
   ],
   "source": [
    "#multiple columns\n",
    "df[['Open', 'Close', 'Adj Close']]"
   ]
  },
  {
   "cell_type": "markdown",
   "metadata": {},
   "source": [
    "Getting rows"
   ]
  },
  {
   "cell_type": "code",
   "execution_count": 78,
   "metadata": {},
   "outputs": [
    {
     "data": {
      "text/plain": [
       "Date         2020-10-27 00:00:00\n",
       "Open                     3224.94\n",
       "High                     3291.66\n",
       "Low                       3211.3\n",
       "Close                    3286.33\n",
       "Adj Close                3286.33\n",
       "Volume                   4291000\n",
       "Name: 1, dtype: object"
      ]
     },
     "execution_count": 78,
     "metadata": {},
     "output_type": "execute_result"
    }
   ],
   "source": [
    "df.loc[1]"
   ]
  },
  {
   "cell_type": "code",
   "execution_count": 79,
   "metadata": {},
   "outputs": [
    {
     "data": {
      "text/html": [
       "<div>\n",
       "<style scoped>\n",
       "    .dataframe tbody tr th:only-of-type {\n",
       "        vertical-align: middle;\n",
       "    }\n",
       "\n",
       "    .dataframe tbody tr th {\n",
       "        vertical-align: top;\n",
       "    }\n",
       "\n",
       "    .dataframe thead th {\n",
       "        text-align: right;\n",
       "    }\n",
       "</style>\n",
       "<table border=\"1\" class=\"dataframe\">\n",
       "  <thead>\n",
       "    <tr style=\"text-align: right;\">\n",
       "      <th></th>\n",
       "      <th>Date</th>\n",
       "      <th>Open</th>\n",
       "      <th>High</th>\n",
       "      <th>Low</th>\n",
       "      <th>Close</th>\n",
       "      <th>Adj Close</th>\n",
       "      <th>Volume</th>\n",
       "    </tr>\n",
       "  </thead>\n",
       "  <tbody>\n",
       "    <tr>\n",
       "      <th>1</th>\n",
       "      <td>2020-10-27</td>\n",
       "      <td>3224.939941</td>\n",
       "      <td>3291.659912</td>\n",
       "      <td>3211.300049</td>\n",
       "      <td>3286.330078</td>\n",
       "      <td>3286.330078</td>\n",
       "      <td>4291000</td>\n",
       "    </tr>\n",
       "  </tbody>\n",
       "</table>\n",
       "</div>"
      ],
      "text/plain": [
       "        Date         Open         High          Low        Close    Adj Close  \\\n",
       "1 2020-10-27  3224.939941  3291.659912  3211.300049  3286.330078  3286.330078   \n",
       "\n",
       "    Volume  \n",
       "1  4291000  "
      ]
     },
     "execution_count": 79,
     "metadata": {},
     "output_type": "execute_result"
    }
   ],
   "source": [
    "df.loc[[1]]"
   ]
  },
  {
   "cell_type": "code",
   "execution_count": 81,
   "metadata": {},
   "outputs": [
    {
     "data": {
      "text/html": [
       "<div>\n",
       "<style scoped>\n",
       "    .dataframe tbody tr th:only-of-type {\n",
       "        vertical-align: middle;\n",
       "    }\n",
       "\n",
       "    .dataframe tbody tr th {\n",
       "        vertical-align: top;\n",
       "    }\n",
       "\n",
       "    .dataframe thead th {\n",
       "        text-align: right;\n",
       "    }\n",
       "</style>\n",
       "<table border=\"1\" class=\"dataframe\">\n",
       "  <thead>\n",
       "    <tr style=\"text-align: right;\">\n",
       "      <th></th>\n",
       "      <th>Date</th>\n",
       "      <th>Open</th>\n",
       "      <th>High</th>\n",
       "      <th>Low</th>\n",
       "      <th>Close</th>\n",
       "      <th>Adj Close</th>\n",
       "      <th>Volume</th>\n",
       "    </tr>\n",
       "  </thead>\n",
       "  <tbody>\n",
       "    <tr>\n",
       "      <th>5</th>\n",
       "      <td>2020-11-02</td>\n",
       "      <td>3061.739990</td>\n",
       "      <td>3079.709961</td>\n",
       "      <td>2950.120117</td>\n",
       "      <td>3004.479980</td>\n",
       "      <td>3004.479980</td>\n",
       "      <td>7257400</td>\n",
       "    </tr>\n",
       "    <tr>\n",
       "      <th>6</th>\n",
       "      <td>2020-11-03</td>\n",
       "      <td>3018.530029</td>\n",
       "      <td>3074.899902</td>\n",
       "      <td>2980.979980</td>\n",
       "      <td>3048.409912</td>\n",
       "      <td>3048.409912</td>\n",
       "      <td>4897900</td>\n",
       "    </tr>\n",
       "    <tr>\n",
       "      <th>7</th>\n",
       "      <td>2020-11-04</td>\n",
       "      <td>3159.989990</td>\n",
       "      <td>3244.850098</td>\n",
       "      <td>3139.729980</td>\n",
       "      <td>3241.159912</td>\n",
       "      <td>3241.159912</td>\n",
       "      <td>6839000</td>\n",
       "    </tr>\n",
       "    <tr>\n",
       "      <th>8</th>\n",
       "      <td>2020-11-05</td>\n",
       "      <td>3319.969971</td>\n",
       "      <td>3366.800049</td>\n",
       "      <td>3288.879883</td>\n",
       "      <td>3322.000000</td>\n",
       "      <td>3322.000000</td>\n",
       "      <td>5789300</td>\n",
       "    </tr>\n",
       "    <tr>\n",
       "      <th>9</th>\n",
       "      <td>2020-11-06</td>\n",
       "      <td>3304.639893</td>\n",
       "      <td>3322.000000</td>\n",
       "      <td>3232.000000</td>\n",
       "      <td>3311.370117</td>\n",
       "      <td>3311.370117</td>\n",
       "      <td>4647300</td>\n",
       "    </tr>\n",
       "    <tr>\n",
       "      <th>...</th>\n",
       "      <td>...</td>\n",
       "      <td>...</td>\n",
       "      <td>...</td>\n",
       "      <td>...</td>\n",
       "      <td>...</td>\n",
       "      <td>...</td>\n",
       "      <td>...</td>\n",
       "    </tr>\n",
       "    <tr>\n",
       "      <th>86</th>\n",
       "      <td>2021-03-02</td>\n",
       "      <td>3143.469971</td>\n",
       "      <td>3163.520020</td>\n",
       "      <td>3087.120117</td>\n",
       "      <td>3094.530029</td>\n",
       "      <td>3094.530029</td>\n",
       "      <td>2595800</td>\n",
       "    </tr>\n",
       "    <tr>\n",
       "      <th>87</th>\n",
       "      <td>2021-03-03</td>\n",
       "      <td>3081.179932</td>\n",
       "      <td>3107.780029</td>\n",
       "      <td>2995.000000</td>\n",
       "      <td>3005.000000</td>\n",
       "      <td>3005.000000</td>\n",
       "      <td>3988700</td>\n",
       "    </tr>\n",
       "    <tr>\n",
       "      <th>88</th>\n",
       "      <td>2021-03-04</td>\n",
       "      <td>3012.000000</td>\n",
       "      <td>3058.129883</td>\n",
       "      <td>2945.429932</td>\n",
       "      <td>2977.570068</td>\n",
       "      <td>2977.570068</td>\n",
       "      <td>5481600</td>\n",
       "    </tr>\n",
       "    <tr>\n",
       "      <th>89</th>\n",
       "      <td>2021-03-05</td>\n",
       "      <td>3005.000000</td>\n",
       "      <td>3009.000000</td>\n",
       "      <td>2881.000000</td>\n",
       "      <td>3000.459961</td>\n",
       "      <td>3000.459961</td>\n",
       "      <td>5388600</td>\n",
       "    </tr>\n",
       "    <tr>\n",
       "      <th>90</th>\n",
       "      <td>2021-03-08</td>\n",
       "      <td>3015.000000</td>\n",
       "      <td>3064.590088</td>\n",
       "      <td>2951.310059</td>\n",
       "      <td>2951.949951</td>\n",
       "      <td>2951.949951</td>\n",
       "      <td>4185000</td>\n",
       "    </tr>\n",
       "  </tbody>\n",
       "</table>\n",
       "<p>86 rows × 7 columns</p>\n",
       "</div>"
      ],
      "text/plain": [
       "         Date         Open         High          Low        Close  \\\n",
       "5  2020-11-02  3061.739990  3079.709961  2950.120117  3004.479980   \n",
       "6  2020-11-03  3018.530029  3074.899902  2980.979980  3048.409912   \n",
       "7  2020-11-04  3159.989990  3244.850098  3139.729980  3241.159912   \n",
       "8  2020-11-05  3319.969971  3366.800049  3288.879883  3322.000000   \n",
       "9  2020-11-06  3304.639893  3322.000000  3232.000000  3311.370117   \n",
       "..        ...          ...          ...          ...          ...   \n",
       "86 2021-03-02  3143.469971  3163.520020  3087.120117  3094.530029   \n",
       "87 2021-03-03  3081.179932  3107.780029  2995.000000  3005.000000   \n",
       "88 2021-03-04  3012.000000  3058.129883  2945.429932  2977.570068   \n",
       "89 2021-03-05  3005.000000  3009.000000  2881.000000  3000.459961   \n",
       "90 2021-03-08  3015.000000  3064.590088  2951.310059  2951.949951   \n",
       "\n",
       "      Adj Close   Volume  \n",
       "5   3004.479980  7257400  \n",
       "6   3048.409912  4897900  \n",
       "7   3241.159912  6839000  \n",
       "8   3322.000000  5789300  \n",
       "9   3311.370117  4647300  \n",
       "..          ...      ...  \n",
       "86  3094.530029  2595800  \n",
       "87  3005.000000  3988700  \n",
       "88  2977.570068  5481600  \n",
       "89  3000.459961  5388600  \n",
       "90  2951.949951  4185000  \n",
       "\n",
       "[86 rows x 7 columns]"
      ]
     },
     "execution_count": 81,
     "metadata": {},
     "output_type": "execute_result"
    }
   ],
   "source": [
    "df.loc[5:90]"
   ]
  },
  {
   "cell_type": "markdown",
   "metadata": {},
   "source": [
    "Functions on columns of data:\n",
    "- min\n",
    "- max\n",
    "- mean\n",
    "- median\n",
    "- count\n",
    "\n",
    "Min and max also work on string columns."
   ]
  },
  {
   "cell_type": "code",
   "execution_count": 84,
   "metadata": {},
   "outputs": [
    {
     "data": {
      "text/plain": [
       "3292.82543945635"
      ]
     },
     "execution_count": 84,
     "metadata": {},
     "output_type": "execute_result"
    }
   ],
   "source": [
    "df['Open'].mean()\n",
    "#df['Open'].min()\n",
    "#df['Open'].max()\n",
    "#df['Open'].median()\n",
    "#df['Open'].max()\n",
    "#df['Open'].count()"
   ]
  },
  {
   "cell_type": "code",
   "execution_count": 85,
   "metadata": {},
   "outputs": [
    {
     "data": {
      "text/plain": [
       "Open         3292.825439\n",
       "Close        3290.108765\n",
       "Adj Close    3290.108765\n",
       "dtype: float64"
      ]
     },
     "execution_count": 85,
     "metadata": {},
     "output_type": "execute_result"
    }
   ],
   "source": [
    "df[['Open', 'Close', 'Adj Close']].mean()"
   ]
  },
  {
   "cell_type": "markdown",
   "metadata": {},
   "source": [
    "Array arithmetics with DataFrame"
   ]
  },
  {
   "cell_type": "code",
   "execution_count": 86,
   "metadata": {},
   "outputs": [
    {
     "data": {
      "text/plain": [
       "0       -8.300049\n",
       "1      -61.390137\n",
       "2       86.520020\n",
       "3       -9.739990\n",
       "4      121.600098\n",
       "          ...    \n",
       "247     -9.859863\n",
       "248     37.599853\n",
       "249    -20.760010\n",
       "250     85.449951\n",
       "251     14.629883\n",
       "Length: 252, dtype: float64"
      ]
     },
     "execution_count": 86,
     "metadata": {},
     "output_type": "execute_result"
    }
   ],
   "source": [
    "df['Open'] - df['Close']"
   ]
  },
  {
   "cell_type": "code",
   "execution_count": 92,
   "metadata": {},
   "outputs": [
    {
     "name": "stdout",
     "output_type": "stream",
     "text": [
      "6      True\n",
      "7      True\n",
      "8      True\n",
      "9      True\n",
      "10     True\n",
      "      ...  \n",
      "85     True\n",
      "86     True\n",
      "87     True\n",
      "88     True\n",
      "89    False\n",
      "Name: High, Length: 84, dtype: bool\n"
     ]
    }
   ],
   "source": [
    "arr = df['High'] > 3020\n",
    "print(arr[6:90])"
   ]
  },
  {
   "cell_type": "markdown",
   "metadata": {},
   "source": [
    "## Numpy where"
   ]
  },
  {
   "cell_type": "code",
   "execution_count": 94,
   "metadata": {},
   "outputs": [
    {
     "data": {
      "text/plain": [
       "array(['Odd', 'Even', 'Odd', 'Even', 'Odd'], dtype='<U4')"
      ]
     },
     "execution_count": 94,
     "metadata": {},
     "output_type": "execute_result"
    }
   ],
   "source": [
    "a = np.array([1,2,3,4,5])\n",
    "np.where(a % 2 == 0, 'Even', 'Odd')"
   ]
  },
  {
   "cell_type": "code",
   "execution_count": 96,
   "metadata": {},
   "outputs": [
    {
     "data": {
      "text/plain": [
       "array(['High', 'High', 'High', 'High', 'High', 'Low', 'Low', 'High',\n",
       "       'High', 'High', 'High', 'High', 'High', 'High', 'High', 'High',\n",
       "       'High', 'High', 'High', 'High', 'High', 'High', 'High', 'High',\n",
       "       'High', 'High', 'High', 'High', 'High', 'High', 'High', 'High',\n",
       "       'High', 'High', 'High', 'High', 'High', 'High', 'High', 'High',\n",
       "       'High', 'High', 'High', 'High', 'High', 'High', 'High', 'High',\n",
       "       'High', 'High', 'High', 'High', 'High', 'High', 'High', 'High',\n",
       "       'High', 'High', 'High', 'High', 'High', 'High', 'High', 'High',\n",
       "       'High', 'High', 'High', 'High', 'High', 'High', 'High', 'High',\n",
       "       'High', 'High', 'High', 'High', 'High', 'High', 'High', 'High',\n",
       "       'High', 'High', 'High', 'High', 'High', 'High', 'High', 'High',\n",
       "       'Low', 'Low', 'Low', 'Low', 'High', 'High', 'Low', 'Low', 'High',\n",
       "       'High', 'High', 'Low', 'High', 'High', 'High', 'High', 'Low',\n",
       "       'Low', 'Low', 'High', 'High', 'High', 'High', 'High', 'High',\n",
       "       'High', 'High', 'High', 'High', 'High', 'High', 'High', 'High',\n",
       "       'High', 'High', 'High', 'High', 'High', 'High', 'High', 'High',\n",
       "       'High', 'High', 'High', 'High', 'High', 'High', 'High', 'High',\n",
       "       'High', 'High', 'High', 'High', 'High', 'High', 'High', 'High',\n",
       "       'High', 'High', 'High', 'High', 'High', 'High', 'High', 'High',\n",
       "       'High', 'High', 'High', 'High', 'High', 'High', 'High', 'High',\n",
       "       'High', 'High', 'High', 'High', 'High', 'High', 'High', 'High',\n",
       "       'High', 'High', 'High', 'High', 'High', 'High', 'High', 'High',\n",
       "       'High', 'High', 'High', 'High', 'High', 'High', 'High', 'High',\n",
       "       'High', 'High', 'High', 'High', 'High', 'High', 'High', 'High',\n",
       "       'High', 'High', 'High', 'High', 'High', 'High', 'High', 'High',\n",
       "       'High', 'High', 'High', 'High', 'High', 'High', 'High', 'High',\n",
       "       'High', 'High', 'High', 'High', 'High', 'High', 'High', 'High',\n",
       "       'High', 'High', 'High', 'High', 'High', 'High', 'High', 'High',\n",
       "       'High', 'High', 'High', 'High', 'High', 'High', 'High', 'High',\n",
       "       'High', 'High', 'High', 'High', 'High', 'High', 'High', 'High',\n",
       "       'High', 'High', 'High', 'High', 'High', 'High', 'High', 'High',\n",
       "       'High', 'High', 'High'], dtype='<U4')"
      ]
     },
     "execution_count": 96,
     "metadata": {},
     "output_type": "execute_result"
    }
   ],
   "source": [
    "np.where(df['High'] > 3100 , 'High', 'Low')"
   ]
  },
  {
   "cell_type": "markdown",
   "metadata": {},
   "source": [
    "## Time Series"
   ]
  },
  {
   "cell_type": "code",
   "execution_count": 97,
   "metadata": {},
   "outputs": [
    {
     "data": {
      "text/html": [
       "<div>\n",
       "<style scoped>\n",
       "    .dataframe tbody tr th:only-of-type {\n",
       "        vertical-align: middle;\n",
       "    }\n",
       "\n",
       "    .dataframe tbody tr th {\n",
       "        vertical-align: top;\n",
       "    }\n",
       "\n",
       "    .dataframe thead th {\n",
       "        text-align: right;\n",
       "    }\n",
       "</style>\n",
       "<table border=\"1\" class=\"dataframe\">\n",
       "  <thead>\n",
       "    <tr style=\"text-align: right;\">\n",
       "      <th></th>\n",
       "      <th>Open</th>\n",
       "      <th>High</th>\n",
       "      <th>Low</th>\n",
       "      <th>Close</th>\n",
       "      <th>Adj Close</th>\n",
       "      <th>Volume</th>\n",
       "    </tr>\n",
       "    <tr>\n",
       "      <th>Date</th>\n",
       "      <th></th>\n",
       "      <th></th>\n",
       "      <th></th>\n",
       "      <th></th>\n",
       "      <th></th>\n",
       "      <th></th>\n",
       "    </tr>\n",
       "  </thead>\n",
       "  <tbody>\n",
       "    <tr>\n",
       "      <th>2021-04-30</th>\n",
       "      <td>349.000000</td>\n",
       "      <td>360.000000</td>\n",
       "      <td>250.000000</td>\n",
       "      <td>330.000000</td>\n",
       "      <td>330.000000</td>\n",
       "      <td>23453729.0</td>\n",
       "    </tr>\n",
       "    <tr>\n",
       "      <th>2021-05-04</th>\n",
       "      <td>330.000000</td>\n",
       "      <td>347.750000</td>\n",
       "      <td>320.000000</td>\n",
       "      <td>323.450012</td>\n",
       "      <td>323.450012</td>\n",
       "      <td>3506343.0</td>\n",
       "    </tr>\n",
       "    <tr>\n",
       "      <th>2021-05-05</th>\n",
       "      <td>331.000000</td>\n",
       "      <td>337.750000</td>\n",
       "      <td>310.100006</td>\n",
       "      <td>315.000000</td>\n",
       "      <td>315.000000</td>\n",
       "      <td>1025676.0</td>\n",
       "    </tr>\n",
       "    <tr>\n",
       "      <th>2021-05-06</th>\n",
       "      <td>320.000000</td>\n",
       "      <td>351.500000</td>\n",
       "      <td>315.049988</td>\n",
       "      <td>320.500000</td>\n",
       "      <td>320.500000</td>\n",
       "      <td>1857161.0</td>\n",
       "    </tr>\n",
       "    <tr>\n",
       "      <th>2021-05-07</th>\n",
       "      <td>332.600006</td>\n",
       "      <td>340.480011</td>\n",
       "      <td>326.000000</td>\n",
       "      <td>337.000000</td>\n",
       "      <td>337.000000</td>\n",
       "      <td>1081364.0</td>\n",
       "    </tr>\n",
       "    <tr>\n",
       "      <th>...</th>\n",
       "      <td>...</td>\n",
       "      <td>...</td>\n",
       "      <td>...</td>\n",
       "      <td>...</td>\n",
       "      <td>...</td>\n",
       "      <td>...</td>\n",
       "    </tr>\n",
       "    <tr>\n",
       "      <th>2021-10-20</th>\n",
       "      <td>928.000000</td>\n",
       "      <td>932.000000</td>\n",
       "      <td>907.500000</td>\n",
       "      <td>911.500000</td>\n",
       "      <td>911.500000</td>\n",
       "      <td>1895780.0</td>\n",
       "    </tr>\n",
       "    <tr>\n",
       "      <th>2021-10-21</th>\n",
       "      <td>896.500000</td>\n",
       "      <td>953.314026</td>\n",
       "      <td>893.000000</td>\n",
       "      <td>950.000000</td>\n",
       "      <td>950.000000</td>\n",
       "      <td>3812555.0</td>\n",
       "    </tr>\n",
       "    <tr>\n",
       "      <th>2021-10-22</th>\n",
       "      <td>953.500000</td>\n",
       "      <td>969.500000</td>\n",
       "      <td>931.942993</td>\n",
       "      <td>945.500000</td>\n",
       "      <td>945.500000</td>\n",
       "      <td>1768470.0</td>\n",
       "    </tr>\n",
       "    <tr>\n",
       "      <th>2021-10-25</th>\n",
       "      <td>NaN</td>\n",
       "      <td>NaN</td>\n",
       "      <td>NaN</td>\n",
       "      <td>NaN</td>\n",
       "      <td>NaN</td>\n",
       "      <td>NaN</td>\n",
       "    </tr>\n",
       "    <tr>\n",
       "      <th>2021-10-26</th>\n",
       "      <td>760.000000</td>\n",
       "      <td>760.000000</td>\n",
       "      <td>693.500000</td>\n",
       "      <td>744.500000</td>\n",
       "      <td>744.500000</td>\n",
       "      <td>1099271.0</td>\n",
       "    </tr>\n",
       "  </tbody>\n",
       "</table>\n",
       "<p>125 rows × 6 columns</p>\n",
       "</div>"
      ],
      "text/plain": [
       "                  Open        High         Low       Close   Adj Close  \\\n",
       "Date                                                                     \n",
       "2021-04-30  349.000000  360.000000  250.000000  330.000000  330.000000   \n",
       "2021-05-04  330.000000  347.750000  320.000000  323.450012  323.450012   \n",
       "2021-05-05  331.000000  337.750000  310.100006  315.000000  315.000000   \n",
       "2021-05-06  320.000000  351.500000  315.049988  320.500000  320.500000   \n",
       "2021-05-07  332.600006  340.480011  326.000000  337.000000  337.000000   \n",
       "...                ...         ...         ...         ...         ...   \n",
       "2021-10-20  928.000000  932.000000  907.500000  911.500000  911.500000   \n",
       "2021-10-21  896.500000  953.314026  893.000000  950.000000  950.000000   \n",
       "2021-10-22  953.500000  969.500000  931.942993  945.500000  945.500000   \n",
       "2021-10-25         NaN         NaN         NaN         NaN         NaN   \n",
       "2021-10-26  760.000000  760.000000  693.500000  744.500000  744.500000   \n",
       "\n",
       "                Volume  \n",
       "Date                    \n",
       "2021-04-30  23453729.0  \n",
       "2021-05-04   3506343.0  \n",
       "2021-05-05   1025676.0  \n",
       "2021-05-06   1857161.0  \n",
       "2021-05-07   1081364.0  \n",
       "...                ...  \n",
       "2021-10-20   1895780.0  \n",
       "2021-10-21   3812555.0  \n",
       "2021-10-22   1768470.0  \n",
       "2021-10-25         NaN  \n",
       "2021-10-26   1099271.0  \n",
       "\n",
       "[125 rows x 6 columns]"
      ]
     },
     "execution_count": 97,
     "metadata": {},
     "output_type": "execute_result"
    }
   ],
   "source": [
    "df = pd.read_excel(io='FinData.xls', sheet_name='DARK.L', index_col = 'Date', parse_dates = True)\n",
    "df"
   ]
  },
  {
   "cell_type": "code",
   "execution_count": 120,
   "metadata": {},
   "outputs": [
    {
     "data": {
      "text/html": [
       "<div>\n",
       "<style scoped>\n",
       "    .dataframe tbody tr th:only-of-type {\n",
       "        vertical-align: middle;\n",
       "    }\n",
       "\n",
       "    .dataframe tbody tr th {\n",
       "        vertical-align: top;\n",
       "    }\n",
       "\n",
       "    .dataframe thead th {\n",
       "        text-align: right;\n",
       "    }\n",
       "</style>\n",
       "<table border=\"1\" class=\"dataframe\">\n",
       "  <thead>\n",
       "    <tr style=\"text-align: right;\">\n",
       "      <th></th>\n",
       "      <th>Open</th>\n",
       "      <th>High</th>\n",
       "      <th>Low</th>\n",
       "      <th>Close</th>\n",
       "      <th>Adj Close</th>\n",
       "      <th>Volume</th>\n",
       "    </tr>\n",
       "  </thead>\n",
       "  <tbody>\n",
       "    <tr>\n",
       "      <th>count</th>\n",
       "      <td>124.000000</td>\n",
       "      <td>124.000000</td>\n",
       "      <td>124.000000</td>\n",
       "      <td>124.000000</td>\n",
       "      <td>124.000000</td>\n",
       "      <td>1.240000e+02</td>\n",
       "    </tr>\n",
       "    <tr>\n",
       "      <th>mean</th>\n",
       "      <td>602.941129</td>\n",
       "      <td>624.729774</td>\n",
       "      <td>578.772919</td>\n",
       "      <td>601.472581</td>\n",
       "      <td>601.472581</td>\n",
       "      <td>2.265395e+06</td>\n",
       "    </tr>\n",
       "    <tr>\n",
       "      <th>std</th>\n",
       "      <td>191.720846</td>\n",
       "      <td>199.138104</td>\n",
       "      <td>184.541343</td>\n",
       "      <td>193.799090</td>\n",
       "      <td>193.799090</td>\n",
       "      <td>3.798479e+06</td>\n",
       "    </tr>\n",
       "    <tr>\n",
       "      <th>min</th>\n",
       "      <td>320.000000</td>\n",
       "      <td>337.750000</td>\n",
       "      <td>250.000000</td>\n",
       "      <td>315.000000</td>\n",
       "      <td>315.000000</td>\n",
       "      <td>1.854590e+05</td>\n",
       "    </tr>\n",
       "    <tr>\n",
       "      <th>25%</th>\n",
       "      <td>398.650002</td>\n",
       "      <td>435.885750</td>\n",
       "      <td>385.300751</td>\n",
       "      <td>396.450004</td>\n",
       "      <td>396.450004</td>\n",
       "      <td>7.844165e+05</td>\n",
       "    </tr>\n",
       "    <tr>\n",
       "      <th>50%</th>\n",
       "      <td>612.500000</td>\n",
       "      <td>630.750000</td>\n",
       "      <td>586.066986</td>\n",
       "      <td>609.000000</td>\n",
       "      <td>609.000000</td>\n",
       "      <td>1.382462e+06</td>\n",
       "    </tr>\n",
       "    <tr>\n",
       "      <th>75%</th>\n",
       "      <td>746.000000</td>\n",
       "      <td>760.875000</td>\n",
       "      <td>710.625000</td>\n",
       "      <td>735.000000</td>\n",
       "      <td>735.000000</td>\n",
       "      <td>2.268612e+06</td>\n",
       "    </tr>\n",
       "    <tr>\n",
       "      <th>max</th>\n",
       "      <td>992.500000</td>\n",
       "      <td>1003.000000</td>\n",
       "      <td>931.942993</td>\n",
       "      <td>985.000000</td>\n",
       "      <td>985.000000</td>\n",
       "      <td>2.507316e+07</td>\n",
       "    </tr>\n",
       "  </tbody>\n",
       "</table>\n",
       "</div>"
      ],
      "text/plain": [
       "             Open         High         Low       Close   Adj Close  \\\n",
       "count  124.000000   124.000000  124.000000  124.000000  124.000000   \n",
       "mean   602.941129   624.729774  578.772919  601.472581  601.472581   \n",
       "std    191.720846   199.138104  184.541343  193.799090  193.799090   \n",
       "min    320.000000   337.750000  250.000000  315.000000  315.000000   \n",
       "25%    398.650002   435.885750  385.300751  396.450004  396.450004   \n",
       "50%    612.500000   630.750000  586.066986  609.000000  609.000000   \n",
       "75%    746.000000   760.875000  710.625000  735.000000  735.000000   \n",
       "max    992.500000  1003.000000  931.942993  985.000000  985.000000   \n",
       "\n",
       "             Volume  \n",
       "count  1.240000e+02  \n",
       "mean   2.265395e+06  \n",
       "std    3.798479e+06  \n",
       "min    1.854590e+05  \n",
       "25%    7.844165e+05  \n",
       "50%    1.382462e+06  \n",
       "75%    2.268612e+06  \n",
       "max    2.507316e+07  "
      ]
     },
     "execution_count": 120,
     "metadata": {},
     "output_type": "execute_result"
    }
   ],
   "source": [
    "df.describe()"
   ]
  },
  {
   "cell_type": "code",
   "execution_count": 98,
   "metadata": {},
   "outputs": [
    {
     "data": {
      "text/html": [
       "<div>\n",
       "<style scoped>\n",
       "    .dataframe tbody tr th:only-of-type {\n",
       "        vertical-align: middle;\n",
       "    }\n",
       "\n",
       "    .dataframe tbody tr th {\n",
       "        vertical-align: top;\n",
       "    }\n",
       "\n",
       "    .dataframe thead th {\n",
       "        text-align: right;\n",
       "    }\n",
       "</style>\n",
       "<table border=\"1\" class=\"dataframe\">\n",
       "  <thead>\n",
       "    <tr style=\"text-align: right;\">\n",
       "      <th></th>\n",
       "      <th>Open</th>\n",
       "      <th>High</th>\n",
       "      <th>Low</th>\n",
       "      <th>Close</th>\n",
       "      <th>Adj Close</th>\n",
       "      <th>Volume</th>\n",
       "    </tr>\n",
       "    <tr>\n",
       "      <th>Date</th>\n",
       "      <th></th>\n",
       "      <th></th>\n",
       "      <th></th>\n",
       "      <th></th>\n",
       "      <th></th>\n",
       "      <th></th>\n",
       "    </tr>\n",
       "  </thead>\n",
       "  <tbody>\n",
       "    <tr>\n",
       "      <th>2021-10-01</th>\n",
       "      <td>760.0</td>\n",
       "      <td>808.000000</td>\n",
       "      <td>722.500000</td>\n",
       "      <td>794.0</td>\n",
       "      <td>794.0</td>\n",
       "      <td>25073164.0</td>\n",
       "    </tr>\n",
       "    <tr>\n",
       "      <th>2021-10-04</th>\n",
       "      <td>794.5</td>\n",
       "      <td>815.000000</td>\n",
       "      <td>786.000000</td>\n",
       "      <td>790.5</td>\n",
       "      <td>790.5</td>\n",
       "      <td>2978062.0</td>\n",
       "    </tr>\n",
       "    <tr>\n",
       "      <th>2021-10-05</th>\n",
       "      <td>797.5</td>\n",
       "      <td>844.500000</td>\n",
       "      <td>783.619995</td>\n",
       "      <td>840.5</td>\n",
       "      <td>840.5</td>\n",
       "      <td>3168638.0</td>\n",
       "    </tr>\n",
       "    <tr>\n",
       "      <th>2021-10-06</th>\n",
       "      <td>841.0</td>\n",
       "      <td>864.500000</td>\n",
       "      <td>750.900024</td>\n",
       "      <td>827.5</td>\n",
       "      <td>827.5</td>\n",
       "      <td>1235979.0</td>\n",
       "    </tr>\n",
       "    <tr>\n",
       "      <th>2021-10-07</th>\n",
       "      <td>842.0</td>\n",
       "      <td>858.500000</td>\n",
       "      <td>820.500000</td>\n",
       "      <td>853.0</td>\n",
       "      <td>853.0</td>\n",
       "      <td>1046953.0</td>\n",
       "    </tr>\n",
       "    <tr>\n",
       "      <th>2021-10-08</th>\n",
       "      <td>855.0</td>\n",
       "      <td>872.000000</td>\n",
       "      <td>841.200012</td>\n",
       "      <td>872.0</td>\n",
       "      <td>872.0</td>\n",
       "      <td>1075499.0</td>\n",
       "    </tr>\n",
       "    <tr>\n",
       "      <th>2021-10-11</th>\n",
       "      <td>891.0</td>\n",
       "      <td>895.000000</td>\n",
       "      <td>806.500000</td>\n",
       "      <td>831.0</td>\n",
       "      <td>831.0</td>\n",
       "      <td>1781965.0</td>\n",
       "    </tr>\n",
       "    <tr>\n",
       "      <th>2021-10-12</th>\n",
       "      <td>834.5</td>\n",
       "      <td>865.729980</td>\n",
       "      <td>784.500000</td>\n",
       "      <td>840.0</td>\n",
       "      <td>840.0</td>\n",
       "      <td>2633435.0</td>\n",
       "    </tr>\n",
       "    <tr>\n",
       "      <th>2021-10-13</th>\n",
       "      <td>850.0</td>\n",
       "      <td>910.500000</td>\n",
       "      <td>821.500000</td>\n",
       "      <td>904.5</td>\n",
       "      <td>904.5</td>\n",
       "      <td>4552519.0</td>\n",
       "    </tr>\n",
       "    <tr>\n",
       "      <th>2021-10-14</th>\n",
       "      <td>926.5</td>\n",
       "      <td>983.000000</td>\n",
       "      <td>922.000000</td>\n",
       "      <td>957.0</td>\n",
       "      <td>957.0</td>\n",
       "      <td>3477085.0</td>\n",
       "    </tr>\n",
       "    <tr>\n",
       "      <th>2021-10-15</th>\n",
       "      <td>962.0</td>\n",
       "      <td>988.500000</td>\n",
       "      <td>879.000000</td>\n",
       "      <td>879.0</td>\n",
       "      <td>879.0</td>\n",
       "      <td>6128239.0</td>\n",
       "    </tr>\n",
       "    <tr>\n",
       "      <th>2021-10-18</th>\n",
       "      <td>922.0</td>\n",
       "      <td>932.500000</td>\n",
       "      <td>867.221985</td>\n",
       "      <td>875.0</td>\n",
       "      <td>875.0</td>\n",
       "      <td>2375716.0</td>\n",
       "    </tr>\n",
       "    <tr>\n",
       "      <th>2021-10-19</th>\n",
       "      <td>880.5</td>\n",
       "      <td>925.000000</td>\n",
       "      <td>880.000000</td>\n",
       "      <td>925.0</td>\n",
       "      <td>925.0</td>\n",
       "      <td>1516389.0</td>\n",
       "    </tr>\n",
       "    <tr>\n",
       "      <th>2021-10-20</th>\n",
       "      <td>928.0</td>\n",
       "      <td>932.000000</td>\n",
       "      <td>907.500000</td>\n",
       "      <td>911.5</td>\n",
       "      <td>911.5</td>\n",
       "      <td>1895780.0</td>\n",
       "    </tr>\n",
       "    <tr>\n",
       "      <th>2021-10-21</th>\n",
       "      <td>896.5</td>\n",
       "      <td>953.314026</td>\n",
       "      <td>893.000000</td>\n",
       "      <td>950.0</td>\n",
       "      <td>950.0</td>\n",
       "      <td>3812555.0</td>\n",
       "    </tr>\n",
       "    <tr>\n",
       "      <th>2021-10-22</th>\n",
       "      <td>953.5</td>\n",
       "      <td>969.500000</td>\n",
       "      <td>931.942993</td>\n",
       "      <td>945.5</td>\n",
       "      <td>945.5</td>\n",
       "      <td>1768470.0</td>\n",
       "    </tr>\n",
       "    <tr>\n",
       "      <th>2021-10-25</th>\n",
       "      <td>NaN</td>\n",
       "      <td>NaN</td>\n",
       "      <td>NaN</td>\n",
       "      <td>NaN</td>\n",
       "      <td>NaN</td>\n",
       "      <td>NaN</td>\n",
       "    </tr>\n",
       "    <tr>\n",
       "      <th>2021-10-26</th>\n",
       "      <td>760.0</td>\n",
       "      <td>760.000000</td>\n",
       "      <td>693.500000</td>\n",
       "      <td>744.5</td>\n",
       "      <td>744.5</td>\n",
       "      <td>1099271.0</td>\n",
       "    </tr>\n",
       "  </tbody>\n",
       "</table>\n",
       "</div>"
      ],
      "text/plain": [
       "             Open        High         Low  Close  Adj Close      Volume\n",
       "Date                                                                   \n",
       "2021-10-01  760.0  808.000000  722.500000  794.0      794.0  25073164.0\n",
       "2021-10-04  794.5  815.000000  786.000000  790.5      790.5   2978062.0\n",
       "2021-10-05  797.5  844.500000  783.619995  840.5      840.5   3168638.0\n",
       "2021-10-06  841.0  864.500000  750.900024  827.5      827.5   1235979.0\n",
       "2021-10-07  842.0  858.500000  820.500000  853.0      853.0   1046953.0\n",
       "2021-10-08  855.0  872.000000  841.200012  872.0      872.0   1075499.0\n",
       "2021-10-11  891.0  895.000000  806.500000  831.0      831.0   1781965.0\n",
       "2021-10-12  834.5  865.729980  784.500000  840.0      840.0   2633435.0\n",
       "2021-10-13  850.0  910.500000  821.500000  904.5      904.5   4552519.0\n",
       "2021-10-14  926.5  983.000000  922.000000  957.0      957.0   3477085.0\n",
       "2021-10-15  962.0  988.500000  879.000000  879.0      879.0   6128239.0\n",
       "2021-10-18  922.0  932.500000  867.221985  875.0      875.0   2375716.0\n",
       "2021-10-19  880.5  925.000000  880.000000  925.0      925.0   1516389.0\n",
       "2021-10-20  928.0  932.000000  907.500000  911.5      911.5   1895780.0\n",
       "2021-10-21  896.5  953.314026  893.000000  950.0      950.0   3812555.0\n",
       "2021-10-22  953.5  969.500000  931.942993  945.5      945.5   1768470.0\n",
       "2021-10-25    NaN         NaN         NaN    NaN        NaN         NaN\n",
       "2021-10-26  760.0  760.000000  693.500000  744.5      744.5   1099271.0"
      ]
     },
     "execution_count": 98,
     "metadata": {},
     "output_type": "execute_result"
    }
   ],
   "source": [
    "df['2021-10']"
   ]
  },
  {
   "cell_type": "code",
   "execution_count": 109,
   "metadata": {},
   "outputs": [
    {
     "data": {
      "text/html": [
       "<div>\n",
       "<style scoped>\n",
       "    .dataframe tbody tr th:only-of-type {\n",
       "        vertical-align: middle;\n",
       "    }\n",
       "\n",
       "    .dataframe tbody tr th {\n",
       "        vertical-align: top;\n",
       "    }\n",
       "\n",
       "    .dataframe thead th {\n",
       "        text-align: right;\n",
       "    }\n",
       "</style>\n",
       "<table border=\"1\" class=\"dataframe\">\n",
       "  <thead>\n",
       "    <tr style=\"text-align: right;\">\n",
       "      <th></th>\n",
       "      <th>Open</th>\n",
       "      <th>High</th>\n",
       "      <th>Low</th>\n",
       "      <th>Close</th>\n",
       "      <th>Adj Close</th>\n",
       "      <th>Volume</th>\n",
       "    </tr>\n",
       "    <tr>\n",
       "      <th>Date</th>\n",
       "      <th></th>\n",
       "      <th></th>\n",
       "      <th></th>\n",
       "      <th></th>\n",
       "      <th></th>\n",
       "      <th></th>\n",
       "    </tr>\n",
       "  </thead>\n",
       "  <tbody>\n",
       "    <tr>\n",
       "      <th>2021-05-04</th>\n",
       "      <td>330.000000</td>\n",
       "      <td>347.750000</td>\n",
       "      <td>320.000000</td>\n",
       "      <td>323.450012</td>\n",
       "      <td>323.450012</td>\n",
       "      <td>3506343.0</td>\n",
       "    </tr>\n",
       "    <tr>\n",
       "      <th>2021-05-05</th>\n",
       "      <td>331.000000</td>\n",
       "      <td>337.750000</td>\n",
       "      <td>310.100006</td>\n",
       "      <td>315.000000</td>\n",
       "      <td>315.000000</td>\n",
       "      <td>1025676.0</td>\n",
       "    </tr>\n",
       "    <tr>\n",
       "      <th>2021-05-06</th>\n",
       "      <td>320.000000</td>\n",
       "      <td>351.500000</td>\n",
       "      <td>315.049988</td>\n",
       "      <td>320.500000</td>\n",
       "      <td>320.500000</td>\n",
       "      <td>1857161.0</td>\n",
       "    </tr>\n",
       "    <tr>\n",
       "      <th>2021-05-07</th>\n",
       "      <td>332.600006</td>\n",
       "      <td>340.480011</td>\n",
       "      <td>326.000000</td>\n",
       "      <td>337.000000</td>\n",
       "      <td>337.000000</td>\n",
       "      <td>1081364.0</td>\n",
       "    </tr>\n",
       "    <tr>\n",
       "      <th>2021-05-10</th>\n",
       "      <td>340.000000</td>\n",
       "      <td>360.950012</td>\n",
       "      <td>336.714996</td>\n",
       "      <td>354.850006</td>\n",
       "      <td>354.850006</td>\n",
       "      <td>2472065.0</td>\n",
       "    </tr>\n",
       "    <tr>\n",
       "      <th>...</th>\n",
       "      <td>...</td>\n",
       "      <td>...</td>\n",
       "      <td>...</td>\n",
       "      <td>...</td>\n",
       "      <td>...</td>\n",
       "      <td>...</td>\n",
       "    </tr>\n",
       "    <tr>\n",
       "      <th>2021-09-24</th>\n",
       "      <td>992.500000</td>\n",
       "      <td>1003.000000</td>\n",
       "      <td>893.372009</td>\n",
       "      <td>909.000000</td>\n",
       "      <td>909.000000</td>\n",
       "      <td>2597250.0</td>\n",
       "    </tr>\n",
       "    <tr>\n",
       "      <th>2021-09-27</th>\n",
       "      <td>912.000000</td>\n",
       "      <td>919.000000</td>\n",
       "      <td>841.310974</td>\n",
       "      <td>864.000000</td>\n",
       "      <td>864.000000</td>\n",
       "      <td>1726560.0</td>\n",
       "    </tr>\n",
       "    <tr>\n",
       "      <th>2021-09-28</th>\n",
       "      <td>854.000000</td>\n",
       "      <td>880.500000</td>\n",
       "      <td>784.304016</td>\n",
       "      <td>813.500000</td>\n",
       "      <td>813.500000</td>\n",
       "      <td>2422735.0</td>\n",
       "    </tr>\n",
       "    <tr>\n",
       "      <th>2021-09-29</th>\n",
       "      <td>825.000000</td>\n",
       "      <td>860.500000</td>\n",
       "      <td>804.500000</td>\n",
       "      <td>815.500000</td>\n",
       "      <td>815.500000</td>\n",
       "      <td>1334133.0</td>\n",
       "    </tr>\n",
       "    <tr>\n",
       "      <th>2021-09-30</th>\n",
       "      <td>828.000000</td>\n",
       "      <td>853.000000</td>\n",
       "      <td>809.124023</td>\n",
       "      <td>820.000000</td>\n",
       "      <td>820.000000</td>\n",
       "      <td>1271575.0</td>\n",
       "    </tr>\n",
       "  </tbody>\n",
       "</table>\n",
       "<p>106 rows × 6 columns</p>\n",
       "</div>"
      ],
      "text/plain": [
       "                  Open         High         Low       Close   Adj Close  \\\n",
       "Date                                                                      \n",
       "2021-05-04  330.000000   347.750000  320.000000  323.450012  323.450012   \n",
       "2021-05-05  331.000000   337.750000  310.100006  315.000000  315.000000   \n",
       "2021-05-06  320.000000   351.500000  315.049988  320.500000  320.500000   \n",
       "2021-05-07  332.600006   340.480011  326.000000  337.000000  337.000000   \n",
       "2021-05-10  340.000000   360.950012  336.714996  354.850006  354.850006   \n",
       "...                ...          ...         ...         ...         ...   \n",
       "2021-09-24  992.500000  1003.000000  893.372009  909.000000  909.000000   \n",
       "2021-09-27  912.000000   919.000000  841.310974  864.000000  864.000000   \n",
       "2021-09-28  854.000000   880.500000  784.304016  813.500000  813.500000   \n",
       "2021-09-29  825.000000   860.500000  804.500000  815.500000  815.500000   \n",
       "2021-09-30  828.000000   853.000000  809.124023  820.000000  820.000000   \n",
       "\n",
       "               Volume  \n",
       "Date                   \n",
       "2021-05-04  3506343.0  \n",
       "2021-05-05  1025676.0  \n",
       "2021-05-06  1857161.0  \n",
       "2021-05-07  1081364.0  \n",
       "2021-05-10  2472065.0  \n",
       "...               ...  \n",
       "2021-09-24  2597250.0  \n",
       "2021-09-27  1726560.0  \n",
       "2021-09-28  2422735.0  \n",
       "2021-09-29  1334133.0  \n",
       "2021-09-30  1271575.0  \n",
       "\n",
       "[106 rows x 6 columns]"
      ]
     },
     "execution_count": 109,
     "metadata": {},
     "output_type": "execute_result"
    }
   ],
   "source": [
    "df['2021-May':'2021-Sep']\n"
   ]
  },
  {
   "cell_type": "code",
   "execution_count": 110,
   "metadata": {},
   "outputs": [
    {
     "data": {
      "text/html": [
       "<div>\n",
       "<style scoped>\n",
       "    .dataframe tbody tr th:only-of-type {\n",
       "        vertical-align: middle;\n",
       "    }\n",
       "\n",
       "    .dataframe tbody tr th {\n",
       "        vertical-align: top;\n",
       "    }\n",
       "\n",
       "    .dataframe thead th {\n",
       "        text-align: right;\n",
       "    }\n",
       "</style>\n",
       "<table border=\"1\" class=\"dataframe\">\n",
       "  <thead>\n",
       "    <tr style=\"text-align: right;\">\n",
       "      <th></th>\n",
       "      <th>Open</th>\n",
       "      <th>High</th>\n",
       "      <th>Low</th>\n",
       "      <th>Close</th>\n",
       "      <th>Adj Close</th>\n",
       "      <th>Volume</th>\n",
       "    </tr>\n",
       "    <tr>\n",
       "      <th>Date</th>\n",
       "      <th></th>\n",
       "      <th></th>\n",
       "      <th></th>\n",
       "      <th></th>\n",
       "      <th></th>\n",
       "      <th></th>\n",
       "    </tr>\n",
       "  </thead>\n",
       "  <tbody>\n",
       "    <tr>\n",
       "      <th>2021-05-04</th>\n",
       "      <td>330.000000</td>\n",
       "      <td>347.750000</td>\n",
       "      <td>320.000000</td>\n",
       "      <td>323.450012</td>\n",
       "      <td>323.450012</td>\n",
       "      <td>3506343.0</td>\n",
       "    </tr>\n",
       "    <tr>\n",
       "      <th>2021-06-16</th>\n",
       "      <td>394.600006</td>\n",
       "      <td>409.799988</td>\n",
       "      <td>380.203003</td>\n",
       "      <td>399.600006</td>\n",
       "      <td>399.600006</td>\n",
       "      <td>936204.0</td>\n",
       "    </tr>\n",
       "    <tr>\n",
       "      <th>2021-07-28</th>\n",
       "      <td>710.000000</td>\n",
       "      <td>748.000000</td>\n",
       "      <td>680.169983</td>\n",
       "      <td>731.500000</td>\n",
       "      <td>731.500000</td>\n",
       "      <td>879539.0</td>\n",
       "    </tr>\n",
       "    <tr>\n",
       "      <th>2021-09-09</th>\n",
       "      <td>755.000000</td>\n",
       "      <td>755.000000</td>\n",
       "      <td>698.000000</td>\n",
       "      <td>725.500000</td>\n",
       "      <td>725.500000</td>\n",
       "      <td>952013.0</td>\n",
       "    </tr>\n",
       "  </tbody>\n",
       "</table>\n",
       "</div>"
      ],
      "text/plain": [
       "                  Open        High         Low       Close   Adj Close  \\\n",
       "Date                                                                     \n",
       "2021-05-04  330.000000  347.750000  320.000000  323.450012  323.450012   \n",
       "2021-06-16  394.600006  409.799988  380.203003  399.600006  399.600006   \n",
       "2021-07-28  710.000000  748.000000  680.169983  731.500000  731.500000   \n",
       "2021-09-09  755.000000  755.000000  698.000000  725.500000  725.500000   \n",
       "\n",
       "               Volume  \n",
       "Date                   \n",
       "2021-05-04  3506343.0  \n",
       "2021-06-16   936204.0  \n",
       "2021-07-28   879539.0  \n",
       "2021-09-09   952013.0  "
      ]
     },
     "execution_count": 110,
     "metadata": {},
     "output_type": "execute_result"
    }
   ],
   "source": [
    "df['2021-May':'2021-Sep':30]"
   ]
  },
  {
   "cell_type": "code",
   "execution_count": 111,
   "metadata": {},
   "outputs": [
    {
     "data": {
      "text/plain": [
       "<AxesSubplot:xlabel='Date'>"
      ]
     },
     "execution_count": 111,
     "metadata": {},
     "output_type": "execute_result"
    },
    {
     "data": {
      "image/png": "[encoded data removed]",
      "text/plain": [
       "<Figure size 432x288 with 1 Axes>"
      ]
     },
     "metadata": {
      "needs_background": "light"
     },
     "output_type": "display_data"
    }
   ],
   "source": [
    "df['Open'].plot()"
   ]
  },
  {
   "cell_type": "code",
   "execution_count": 112,
   "metadata": {},
   "outputs": [],
   "source": [
    "open = df[['Open']]"
   ]
  },
  {
   "cell_type": "code",
   "execution_count": 118,
   "metadata": {},
   "outputs": [
    {
     "data": {
      "text/plain": [
       "<AxesSubplot:xlabel='Date'>"
      ]
     },
     "execution_count": 118,
     "metadata": {},
     "output_type": "execute_result"
    },
    {
     "data": {
      "image/png": "[encoded data removed]",
      "text/plain": [
       "<Figure size 432x288 with 1 Axes>"
      ]
     },
     "metadata": {
      "needs_background": "light"
     },
     "output_type": "display_data"
    }
   ],
   "source": [
    "open['2021-May':'2021-Aug'].plot()"
   ]
  },
  {
   "cell_type": "code",
   "execution_count": 119,
   "metadata": {},
   "outputs": [
    {
     "data": {
      "text/plain": [
       "<AxesSubplot:xlabel='Date'>"
      ]
     },
     "execution_count": 119,
     "metadata": {},
     "output_type": "execute_result"
    },
    {
     "data": {
      "image/png": "[encoded data removed]",
      "text/plain": [
       "<Figure size 432x288 with 1 Axes>"
      ]
     },
     "metadata": {
      "needs_background": "light"
     },
     "output_type": "display_data"
    }
   ],
   "source": [
    "df2 = df[['Open','Close']]\n",
    "df2['2021-May':'2021-Aug'].plot()"
   ]
  }
 ],
 "metadata": {
  "kernelspec": {
   "display_name": "Python 3",
   "language": "python",
   "name": "python3"
  },
  "language_info": {
   "codemirror_mode": {
    "name": "ipython",
    "version": 3
   },
   "file_extension": ".py",
   "mimetype": "text/x-python",
   "name": "python",
   "nbconvert_exporter": "python",
   "pygments_lexer": "ipython3",
   "version": "3.8.5"
  }
 },
 "nbformat": 4,
 "nbformat_minor": 4
}
